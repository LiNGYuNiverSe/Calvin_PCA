{
 "cells": [
  {
   "cell_type": "code",
   "execution_count": 1,
   "metadata": {},
   "outputs": [
    {
     "data": {
      "text/html": [
       "<div>\n",
       "<style scoped>\n",
       "    .dataframe tbody tr th:only-of-type {\n",
       "        vertical-align: middle;\n",
       "    }\n",
       "\n",
       "    .dataframe tbody tr th {\n",
       "        vertical-align: top;\n",
       "    }\n",
       "\n",
       "    .dataframe thead th {\n",
       "        text-align: right;\n",
       "    }\n",
       "</style>\n",
       "<table border=\"1\" class=\"dataframe\">\n",
       "  <thead>\n",
       "    <tr style=\"text-align: right;\">\n",
       "      <th></th>\n",
       "      <th>5.1</th>\n",
       "      <th>3.5</th>\n",
       "      <th>1.4</th>\n",
       "      <th>0.2</th>\n",
       "      <th>Iris-setosa</th>\n",
       "    </tr>\n",
       "  </thead>\n",
       "  <tbody>\n",
       "    <tr>\n",
       "      <th>0</th>\n",
       "      <td>4.9</td>\n",
       "      <td>3.0</td>\n",
       "      <td>1.4</td>\n",
       "      <td>0.2</td>\n",
       "      <td>Iris-setosa</td>\n",
       "    </tr>\n",
       "    <tr>\n",
       "      <th>1</th>\n",
       "      <td>4.7</td>\n",
       "      <td>3.2</td>\n",
       "      <td>1.3</td>\n",
       "      <td>0.2</td>\n",
       "      <td>Iris-setosa</td>\n",
       "    </tr>\n",
       "    <tr>\n",
       "      <th>2</th>\n",
       "      <td>4.6</td>\n",
       "      <td>3.1</td>\n",
       "      <td>1.5</td>\n",
       "      <td>0.2</td>\n",
       "      <td>Iris-setosa</td>\n",
       "    </tr>\n",
       "    <tr>\n",
       "      <th>3</th>\n",
       "      <td>5.0</td>\n",
       "      <td>3.6</td>\n",
       "      <td>1.4</td>\n",
       "      <td>0.2</td>\n",
       "      <td>Iris-setosa</td>\n",
       "    </tr>\n",
       "    <tr>\n",
       "      <th>4</th>\n",
       "      <td>5.4</td>\n",
       "      <td>3.9</td>\n",
       "      <td>1.7</td>\n",
       "      <td>0.4</td>\n",
       "      <td>Iris-setosa</td>\n",
       "    </tr>\n",
       "  </tbody>\n",
       "</table>\n",
       "</div>"
      ],
      "text/plain": [
       "   5.1  3.5  1.4  0.2  Iris-setosa\n",
       "0  4.9  3.0  1.4  0.2  Iris-setosa\n",
       "1  4.7  3.2  1.3  0.2  Iris-setosa\n",
       "2  4.6  3.1  1.5  0.2  Iris-setosa\n",
       "3  5.0  3.6  1.4  0.2  Iris-setosa\n",
       "4  5.4  3.9  1.7  0.4  Iris-setosa"
      ]
     },
     "execution_count": 1,
     "metadata": {},
     "output_type": "execute_result"
    }
   ],
   "source": [
    "import numpy as np\n",
    "import pandas as pd\n",
    "df = pd.read_csv('iris.data')\n",
    "df.head()"
   ]
  },
  {
   "cell_type": "code",
   "execution_count": 3,
   "metadata": {},
   "outputs": [],
   "source": [
    "df.columns=['sepal_len', 'sepal_wid', 'petal_len', 'petal_wid', 'class']"
   ]
  },
  {
   "cell_type": "code",
   "execution_count": 4,
   "metadata": {},
   "outputs": [
    {
     "data": {
      "text/html": [
       "<div>\n",
       "<style scoped>\n",
       "    .dataframe tbody tr th:only-of-type {\n",
       "        vertical-align: middle;\n",
       "    }\n",
       "\n",
       "    .dataframe tbody tr th {\n",
       "        vertical-align: top;\n",
       "    }\n",
       "\n",
       "    .dataframe thead th {\n",
       "        text-align: right;\n",
       "    }\n",
       "</style>\n",
       "<table border=\"1\" class=\"dataframe\">\n",
       "  <thead>\n",
       "    <tr style=\"text-align: right;\">\n",
       "      <th></th>\n",
       "      <th>sepal_len</th>\n",
       "      <th>sepal_wid</th>\n",
       "      <th>petal_len</th>\n",
       "      <th>petal_wid</th>\n",
       "      <th>class</th>\n",
       "    </tr>\n",
       "  </thead>\n",
       "  <tbody>\n",
       "    <tr>\n",
       "      <th>0</th>\n",
       "      <td>4.9</td>\n",
       "      <td>3.0</td>\n",
       "      <td>1.4</td>\n",
       "      <td>0.2</td>\n",
       "      <td>Iris-setosa</td>\n",
       "    </tr>\n",
       "    <tr>\n",
       "      <th>1</th>\n",
       "      <td>4.7</td>\n",
       "      <td>3.2</td>\n",
       "      <td>1.3</td>\n",
       "      <td>0.2</td>\n",
       "      <td>Iris-setosa</td>\n",
       "    </tr>\n",
       "    <tr>\n",
       "      <th>2</th>\n",
       "      <td>4.6</td>\n",
       "      <td>3.1</td>\n",
       "      <td>1.5</td>\n",
       "      <td>0.2</td>\n",
       "      <td>Iris-setosa</td>\n",
       "    </tr>\n",
       "    <tr>\n",
       "      <th>3</th>\n",
       "      <td>5.0</td>\n",
       "      <td>3.6</td>\n",
       "      <td>1.4</td>\n",
       "      <td>0.2</td>\n",
       "      <td>Iris-setosa</td>\n",
       "    </tr>\n",
       "    <tr>\n",
       "      <th>4</th>\n",
       "      <td>5.4</td>\n",
       "      <td>3.9</td>\n",
       "      <td>1.7</td>\n",
       "      <td>0.4</td>\n",
       "      <td>Iris-setosa</td>\n",
       "    </tr>\n",
       "  </tbody>\n",
       "</table>\n",
       "</div>"
      ],
      "text/plain": [
       "   sepal_len  sepal_wid  petal_len  petal_wid        class\n",
       "0        4.9        3.0        1.4        0.2  Iris-setosa\n",
       "1        4.7        3.2        1.3        0.2  Iris-setosa\n",
       "2        4.6        3.1        1.5        0.2  Iris-setosa\n",
       "3        5.0        3.6        1.4        0.2  Iris-setosa\n",
       "4        5.4        3.9        1.7        0.4  Iris-setosa"
      ]
     },
     "execution_count": 4,
     "metadata": {},
     "output_type": "execute_result"
    }
   ],
   "source": [
    "df.head()"
   ]
  },
  {
   "cell_type": "code",
   "execution_count": 5,
   "metadata": {},
   "outputs": [],
   "source": [
    "X= df.iloc[:,0:4].values\n",
    "y=df.iloc[:,4].values"
   ]
  },
  {
   "cell_type": "code",
   "execution_count": 12,
   "metadata": {},
   "outputs": [],
   "source": [
    "import matplotlib.pyplot as  plt\n",
    "% matplotlib inline"
   ]
  },
  {
   "cell_type": "code",
   "execution_count": 26,
   "metadata": {},
   "outputs": [],
   "source": [
    "label_dict = {1:\"Iris-Setosa\",\n",
    "              2:\"Iris-Versicolor\",\n",
    "              3:\"Iris-Virgnica\"}\n",
    "feature_dict = {0:\"sepal length [cm]\",\n",
    "                1: \"sepal width [cm]\",\n",
    "                2: 'petal length [cm]',\n",
    "                3: 'petal width [cm]'}"
   ]
  },
  {
   "cell_type": "code",
   "execution_count": 27,
   "metadata": {},
   "outputs": [
    {
     "data": {
      "image/png": "[encoded data removed]",
      "text/plain": [
       "<Figure size 576x432 with 4 Axes>"
      ]
     },
     "metadata": {
      "needs_background": "light"
     },
     "output_type": "display_data"
    }
   ],
   "source": [
    "plt.figure(figsize= (8,6))\n",
    "\n",
    "for cnt in range(4):\n",
    "    plt.subplot(2,2, cnt+1)\n",
    "    for lab in ('Iris-setosa', 'Iris-versicolor', 'Iris-virginica'):\n",
    "        plt.hist(X[y == lab,cnt],label = lab,bins = 10,alpha = 0.3, )\n",
    "    plt.xlabel(feature_dict[cnt])\n",
    "    plt.legend(loc='upper right', fancybox=True, fontsize=8)\n",
    "\n",
    "plt.tight_layout()\n",
    "plt.show()\n"
   ]
  },
  {
   "cell_type": "code",
   "execution_count": 30,
   "metadata": {},
   "outputs": [
    {
     "name": "stdout",
     "output_type": "stream",
     "text": [
      "[[-1.1483555  -0.11805969 -1.35396443 -1.32506301]\n",
      " [-1.3905423   0.34485856 -1.41098555 -1.32506301]\n",
      " [-1.51163569  0.11339944 -1.29694332 -1.32506301]\n",
      " [-1.02726211  1.27069504 -1.35396443 -1.32506301]\n",
      " [-0.54288852  1.9650724  -1.18290109 -1.0614657 ]\n",
      " [-1.51163569  0.8077768  -1.35396443 -1.19326436]\n",
      " [-1.02726211  0.8077768  -1.29694332 -1.32506301]\n",
      " [-1.75382249 -0.34951881 -1.35396443 -1.32506301]\n",
      " [-1.1483555   0.11339944 -1.29694332 -1.45686167]\n",
      " [-0.54288852  1.50215416 -1.29694332 -1.32506301]\n",
      " [-1.2694489   0.8077768  -1.23992221 -1.32506301]\n",
      " [-1.2694489  -0.11805969 -1.35396443 -1.45686167]\n",
      " [-1.87491588 -0.11805969 -1.52502777 -1.45686167]\n",
      " [-0.05851493  2.19653152 -1.46800666 -1.32506301]\n",
      " [-0.17960833  3.122368   -1.29694332 -1.0614657 ]\n",
      " [-0.54288852  1.9650724  -1.41098555 -1.0614657 ]\n",
      " [-0.90616871  1.03923592 -1.35396443 -1.19326436]\n",
      " [-0.17960833  1.73361328 -1.18290109 -1.19326436]\n",
      " [-0.90616871  1.73361328 -1.29694332 -1.19326436]\n",
      " [-0.54288852  0.8077768  -1.18290109 -1.32506301]\n",
      " [-0.90616871  1.50215416 -1.29694332 -1.0614657 ]\n",
      " [-1.51163569  1.27069504 -1.58204889 -1.32506301]\n",
      " [-0.90616871  0.57631768 -1.18290109 -0.92966704]\n",
      " [-1.2694489   0.8077768  -1.06885886 -1.32506301]\n",
      " [-1.02726211 -0.11805969 -1.23992221 -1.32506301]\n",
      " [-1.02726211  0.8077768  -1.23992221 -1.0614657 ]\n",
      " [-0.78507531  1.03923592 -1.29694332 -1.32506301]\n",
      " [-0.78507531  0.8077768  -1.35396443 -1.32506301]\n",
      " [-1.3905423   0.34485856 -1.23992221 -1.32506301]\n",
      " [-1.2694489   0.11339944 -1.23992221 -1.32506301]\n",
      " [-0.54288852  0.8077768  -1.29694332 -1.0614657 ]\n",
      " [-0.78507531  2.42799064 -1.29694332 -1.45686167]\n",
      " [-0.42179512  2.65944976 -1.35396443 -1.32506301]\n",
      " [-1.1483555   0.11339944 -1.29694332 -1.45686167]\n",
      " [-1.02726211  0.34485856 -1.46800666 -1.32506301]\n",
      " [-0.42179512  1.03923592 -1.41098555 -1.32506301]\n",
      " [-1.1483555   0.11339944 -1.29694332 -1.45686167]\n",
      " [-1.75382249 -0.11805969 -1.41098555 -1.32506301]\n",
      " [-0.90616871  0.8077768  -1.29694332 -1.32506301]\n",
      " [-1.02726211  1.03923592 -1.41098555 -1.19326436]\n",
      " [-1.63272909 -1.73827353 -1.41098555 -1.19326436]\n",
      " [-1.75382249  0.34485856 -1.41098555 -1.32506301]\n",
      " [-1.02726211  1.03923592 -1.23992221 -0.79786838]\n",
      " [-0.90616871  1.73361328 -1.06885886 -1.0614657 ]\n",
      " [-1.2694489  -0.11805969 -1.35396443 -1.19326436]\n",
      " [-0.90616871  1.73361328 -1.23992221 -1.32506301]\n",
      " [-1.51163569  0.34485856 -1.35396443 -1.32506301]\n",
      " [-0.66398191  1.50215416 -1.29694332 -1.32506301]\n",
      " [-1.02726211  0.57631768 -1.35396443 -1.32506301]\n",
      " [ 1.39460583  0.34485856  0.52773232  0.25652088]\n",
      " [ 0.66804545  0.34485856  0.41369009  0.38831953]\n",
      " [ 1.27351244  0.11339944  0.64177455  0.38831953]\n",
      " [-0.42179512 -1.73827353  0.12858453  0.12472222]\n",
      " [ 0.78913885 -0.58097793  0.47071121  0.38831953]\n",
      " [-0.17960833 -0.58097793  0.41369009  0.12472222]\n",
      " [ 0.54695205  0.57631768  0.52773232  0.52011819]\n",
      " [-1.1483555  -1.50681441 -0.27056327 -0.27067375]\n",
      " [ 0.91023225 -0.34951881  0.47071121  0.12472222]\n",
      " [-0.78507531 -0.81243705  0.07156341  0.25652088]\n",
      " [-1.02726211 -2.43265089 -0.15652104 -0.27067375]\n",
      " [ 0.06257847 -0.11805969  0.24262675  0.38831953]\n",
      " [ 0.18367186 -1.96973265  0.12858453 -0.27067375]\n",
      " [ 0.30476526 -0.34951881  0.52773232  0.25652088]\n",
      " [-0.30070172 -0.34951881 -0.09949993  0.12472222]\n",
      " [ 1.03132564  0.11339944  0.35666898  0.25652088]\n",
      " [-0.30070172 -0.11805969  0.41369009  0.38831953]\n",
      " [-0.05851493 -0.81243705  0.18560564 -0.27067375]\n",
      " [ 0.42585866 -1.96973265  0.41369009  0.38831953]\n",
      " [-0.30070172 -1.27535529  0.07156341 -0.1388751 ]\n",
      " [ 0.06257847  0.34485856  0.58475344  0.78371551]\n",
      " [ 0.30476526 -0.58097793  0.12858453  0.12472222]\n",
      " [ 0.54695205 -1.27535529  0.64177455  0.38831953]\n",
      " [ 0.30476526 -0.58097793  0.52773232 -0.00707644]\n",
      " [ 0.66804545 -0.34951881  0.29964787  0.12472222]\n",
      " [ 0.91023225 -0.11805969  0.35666898  0.25652088]\n",
      " [ 1.15241904 -0.58097793  0.58475344  0.25652088]\n",
      " [ 1.03132564 -0.11805969  0.69879566  0.65191685]\n",
      " [ 0.18367186 -0.34951881  0.41369009  0.38831953]\n",
      " [-0.17960833 -1.04389617 -0.15652104 -0.27067375]\n",
      " [-0.42179512 -1.50681441  0.0145423  -0.1388751 ]\n",
      " [-0.42179512 -1.50681441 -0.04247882 -0.27067375]\n",
      " [-0.05851493 -0.81243705  0.07156341 -0.00707644]\n",
      " [ 0.18367186 -0.81243705  0.75581678  0.52011819]\n",
      " [-0.54288852 -0.11805969  0.41369009  0.38831953]\n",
      " [ 0.18367186  0.8077768   0.41369009  0.52011819]\n",
      " [ 1.03132564  0.11339944  0.52773232  0.38831953]\n",
      " [ 0.54695205 -1.73827353  0.35666898  0.12472222]\n",
      " [-0.30070172 -0.11805969  0.18560564  0.12472222]\n",
      " [-0.42179512 -1.27535529  0.12858453  0.12472222]\n",
      " [-0.42179512 -1.04389617  0.35666898 -0.00707644]\n",
      " [ 0.30476526 -0.11805969  0.47071121  0.25652088]\n",
      " [-0.05851493 -1.04389617  0.12858453 -0.00707644]\n",
      " [-1.02726211 -1.73827353 -0.27056327 -0.27067375]\n",
      " [-0.30070172 -0.81243705  0.24262675  0.12472222]\n",
      " [-0.17960833 -0.11805969  0.24262675 -0.00707644]\n",
      " [-0.17960833 -0.34951881  0.24262675  0.12472222]\n",
      " [ 0.42585866 -0.34951881  0.29964787  0.12472222]\n",
      " [-0.90616871 -1.27535529 -0.44162661 -0.1388751 ]\n",
      " [-0.17960833 -0.58097793  0.18560564  0.12472222]\n",
      " [ 0.54695205  0.57631768  1.2690068   1.70630611]\n",
      " [-0.05851493 -0.81243705  0.75581678  0.91551417]\n",
      " [ 1.51569923 -0.11805969  1.21198569  1.17911148]\n",
      " [ 0.54695205 -0.34951881  1.04092235  0.78371551]\n",
      " [ 0.78913885 -0.11805969  1.15496457  1.31091014]\n",
      " [ 2.12116622 -0.11805969  1.61113348  1.17911148]\n",
      " [-1.1483555  -1.27535529  0.41369009  0.65191685]\n",
      " [ 1.75788602 -0.34951881  1.44007014  0.78371551]\n",
      " [ 1.03132564 -1.27535529  1.15496457  0.78371551]\n",
      " [ 1.63679263  1.27069504  1.32602791  1.70630611]\n",
      " [ 0.78913885  0.34485856  0.75581678  1.04731282]\n",
      " [ 0.66804545 -0.81243705  0.869859    0.91551417]\n",
      " [ 1.15241904 -0.11805969  0.98390123  1.17911148]\n",
      " [-0.17960833 -1.27535529  0.69879566  1.04731282]\n",
      " [-0.05851493 -0.58097793  0.75581678  1.57450745]\n",
      " [ 0.66804545  0.34485856  0.869859    1.4427088 ]\n",
      " [ 0.78913885 -0.11805969  0.98390123  0.78371551]\n",
      " [ 2.24225961  1.73361328  1.6681546   1.31091014]\n",
      " [ 2.24225961 -1.04389617  1.78219682  1.4427088 ]\n",
      " [ 0.18367186 -1.96973265  0.69879566  0.38831953]\n",
      " [ 1.27351244  0.34485856  1.09794346  1.4427088 ]\n",
      " [-0.30070172 -0.58097793  0.64177455  1.04731282]\n",
      " [ 2.24225961 -0.58097793  1.6681546   1.04731282]\n",
      " [ 0.54695205 -0.81243705  0.64177455  0.78371551]\n",
      " [ 1.03132564  0.57631768  1.09794346  1.17911148]\n",
      " [ 1.63679263  0.34485856  1.2690068   0.78371551]\n",
      " [ 0.42585866 -0.58097793  0.58475344  0.78371551]\n",
      " [ 0.30476526 -0.11805969  0.64177455  0.78371551]\n",
      " [ 0.66804545 -0.58097793  1.04092235  1.17911148]\n",
      " [ 1.63679263 -0.11805969  1.15496457  0.52011819]\n",
      " [ 1.87897942 -0.58097793  1.32602791  0.91551417]\n",
      " [ 2.48444641  1.73361328  1.49709126  1.04731282]\n",
      " [ 0.66804545 -0.58097793  1.04092235  1.31091014]\n",
      " [ 0.54695205 -0.58097793  0.75581678  0.38831953]\n",
      " [ 0.30476526 -1.04389617  1.04092235  0.25652088]\n",
      " [ 2.24225961 -0.11805969  1.32602791  1.4427088 ]\n",
      " [ 0.54695205  0.8077768   1.04092235  1.57450745]\n",
      " [ 0.66804545  0.11339944  0.98390123  0.78371551]\n",
      " [ 0.18367186 -0.11805969  0.58475344  0.78371551]\n",
      " [ 1.27351244  0.11339944  0.92688012  1.17911148]\n",
      " [ 1.03132564  0.11339944  1.04092235  1.57450745]\n",
      " [ 1.27351244  0.11339944  0.75581678  1.4427088 ]\n",
      " [-0.05851493 -0.81243705  0.75581678  0.91551417]\n",
      " [ 1.15241904  0.34485856  1.21198569  1.4427088 ]\n",
      " [ 1.03132564  0.57631768  1.09794346  1.70630611]\n",
      " [ 1.03132564 -0.11805969  0.81283789  1.4427088 ]\n",
      " [ 0.54695205 -1.27535529  0.69879566  0.91551417]\n",
      " [ 0.78913885 -0.11805969  0.81283789  1.04731282]\n",
      " [ 0.42585866  0.8077768   0.92688012  1.4427088 ]\n",
      " [ 0.06257847 -0.11805969  0.75581678  0.78371551]]\n"
     ]
    }
   ],
   "source": [
    "from sklearn.preprocessing import StandardScaler\n",
    "X_std = StandardScaler().fit_transform(X)\n",
    "print(X_std)"
   ]
  },
  {
   "cell_type": "code",
   "execution_count": 31,
   "metadata": {},
   "outputs": [
    {
     "data": {
      "text/plain": [
       "array([ 2.38437160e-16,  2.38437160e-17, -9.53748639e-17, -1.43062296e-16])"
      ]
     },
     "execution_count": 31,
     "metadata": {},
     "output_type": "execute_result"
    }
   ],
   "source": [
    "mean_vec = np.mean(X_std, axis = 0)\n",
    "mean_vec"
   ]
  },
  {
   "cell_type": "code",
   "execution_count": 32,
   "metadata": {},
   "outputs": [
    {
     "name": "stdout",
     "output_type": "stream",
     "text": [
      "Covariance matrix \n",
      "[[ 1.00675676 -0.10448539  0.87716999  0.82249094]\n",
      " [-0.10448539  1.00675676 -0.41802325 -0.35310295]\n",
      " [ 0.87716999 -0.41802325  1.00675676  0.96881642]\n",
      " [ 0.82249094 -0.35310295  0.96881642  1.00675676]]\n"
     ]
    }
   ],
   "source": [
    "cov_mat=((X_std - mean_vec)).T.dot((X_std - mean_vec)) /(X_std.shape[0] - 1)\n",
    "print('Covariance matrix \\n%s' %cov_mat)"
   ]
  },
  {
   "cell_type": "code",
   "execution_count": 34,
   "metadata": {},
   "outputs": [
    {
     "name": "stdout",
     "output_type": "stream",
     "text": [
      "Nmupy covariance matrix \n",
      "[[ 1.00675676 -0.10448539  0.87716999  0.82249094]\n",
      " [-0.10448539  1.00675676 -0.41802325 -0.35310295]\n",
      " [ 0.87716999 -0.41802325  1.00675676  0.96881642]\n",
      " [ 0.82249094 -0.35310295  0.96881642  1.00675676]]\n"
     ]
    }
   ],
   "source": [
    "print('Nmupy covariance matrix \\n%s' %np.cov(X_std.T))"
   ]
  },
  {
   "cell_type": "code",
   "execution_count": 39,
   "metadata": {},
   "outputs": [],
   "source": [
    "cov_mat =np.cov(X_std.T)"
   ]
  },
  {
   "cell_type": "code",
   "execution_count": 40,
   "metadata": {},
   "outputs": [
    {
     "name": "stdout",
     "output_type": "stream",
     "text": [
      "Eigenvectors \n",
      "[[ 0.52308496 -0.36956962 -0.72154279  0.26301409]\n",
      " [-0.25956935 -0.92681168  0.2411952  -0.12437342]\n",
      " [ 0.58184289 -0.01912775  0.13962963 -0.80099722]\n",
      " [ 0.56609604 -0.06381646  0.63380158  0.52321917]]\n",
      "\n",
      "Eigenvalues \n",
      "[2.92442837 0.93215233 0.14946373 0.02098259]\n"
     ]
    }
   ],
   "source": [
    "eig_vals, eig_vecs = np.linalg.eig(cov_mat)\n",
    "\n",
    "print('Eigenvectors \\n%s' %eig_vecs)\n",
    "print('\\nEigenvalues \\n%s' %eig_vals)"
   ]
  },
  {
   "cell_type": "code",
   "execution_count": 48,
   "metadata": {},
   "outputs": [
    {
     "name": "stdout",
     "output_type": "stream",
     "text": [
      "[(2.9244283691111126, array([ 0.52308496, -0.25956935,  0.58184289,  0.56609604])), (0.9321523302535072, array([-0.36956962, -0.92681168, -0.01912775, -0.06381646])), (0.14946373489813383, array([-0.72154279,  0.2411952 ,  0.13962963,  0.63380158])), (0.020982592764270565, array([ 0.26301409, -0.12437342, -0.80099722,  0.52321917]))]\n",
      "------\n",
      "Eigenvalues in descending order:\n",
      "2.9244283691111126\n",
      "0.9321523302535072\n",
      "0.14946373489813383\n",
      "0.020982592764270565\n"
     ]
    }
   ],
   "source": [
    "eig_pairs = [(np.abs(eig_vals[i]), eig_vecs[:,i]) for i in range(len(eig_vals))]\n",
    "print(eig_pairs)\n",
    "print('------')\n",
    "\n",
    "eig_pairs.sort(key=lambda x:x[0], reverse=True)\n",
    "\n",
    "print('Eigenvalues in descending order:')\n",
    "\n",
    "for i in eig_pairs:\n",
    "    print(i[0])"
   ]
  },
  {
   "cell_type": "code",
   "execution_count": 50,
   "metadata": {},
   "outputs": [
    {
     "name": "stdout",
     "output_type": "stream",
     "text": [
      "[72.62003332692029, 23.147406858644153, 3.711515564584534, 0.5210442498510144]\n"
     ]
    },
    {
     "data": {
      "text/plain": [
       "array([ 72.62003333,  95.76744019,  99.47895575, 100.        ])"
      ]
     },
     "execution_count": 50,
     "metadata": {},
     "output_type": "execute_result"
    }
   ],
   "source": [
    "tot = sum(eig_vals)\n",
    "var_exp = [(i/tot)*100 for i in sorted(eig_vals,reverse=True)]\n",
    "print(var_exp)\n",
    "cum_var_exp = np.cumsum(var_exp)\n",
    "cum_var_exp"
   ]
  },
  {
   "cell_type": "code",
   "execution_count": 53,
   "metadata": {},
   "outputs": [
    {
     "data": {
      "image/png": "[encoded data removed]",
      "text/plain": [
       "<Figure size 432x288 with 1 Axes>"
      ]
     },
     "metadata": {
      "needs_background": "light"
     },
     "output_type": "display_data"
    }
   ],
   "source": [
    "plt.figure(figsize =(6,4))\n",
    "plt.bar(range(4), var_exp, alpha = 0.5, align = 'center', label = 'individual explained variance')\n",
    "plt.step(range(4),cum_var_exp, where = 'mid', label = 'cumulative explained variance')\n",
    "plt.ylabel('Explained variance ratio')\n",
    "plt.xlabel('Principle components')\n",
    "plt.legend(loc='best')\n",
    "plt.tight_layout()\n",
    "plt.show()"
   ]
  },
  {
   "cell_type": "code",
   "execution_count": 60,
   "metadata": {},
   "outputs": [],
   "source": [
    "matrix_w = np.hstack((eig_pairs[0][1].reshape(4,1),\n",
    "                      eig_pairs[1][1].reshape(4,1)))"
   ]
  },
  {
   "cell_type": "code",
   "execution_count": 62,
   "metadata": {},
   "outputs": [
    {
     "data": {
      "text/plain": [
       "array([[ 0.52308496, -0.36956962],\n",
       "       [-0.25956935, -0.92681168],\n",
       "       [ 0.58184289, -0.01912775],\n",
       "       [ 0.56609604, -0.06381646]])"
      ]
     },
     "execution_count": 62,
     "metadata": {},
     "output_type": "execute_result"
    }
   ],
   "source": [
    "matrix_w"
   ]
  },
  {
   "cell_type": "code",
   "execution_count": 63,
   "metadata": {},
   "outputs": [
    {
     "data": {
      "text/plain": [
       "array([[-2.10795032,  0.64427554],\n",
       "       [-2.38797131,  0.30583307],\n",
       "       [-2.32487909,  0.56292316],\n",
       "       [-2.40508635, -0.687591  ],\n",
       "       [-2.08320351, -1.53025171],\n",
       "       [-2.4636848 , -0.08795413],\n",
       "       [-2.25174963, -0.25964365],\n",
       "       [-2.3645813 ,  1.08255676],\n",
       "       [-2.20946338,  0.43707676],\n",
       "       [-2.17862017, -1.08221046],\n",
       "       [-2.34525657, -0.17122946],\n",
       "       [-2.24590315,  0.6974389 ],\n",
       "       [-2.66214582,  0.92447316],\n",
       "       [-2.2050227 , -1.90150522],\n",
       "       [-2.25993023, -2.73492274],\n",
       "       [-2.21591283, -1.52588897],\n",
       "       [-2.20705382, -0.52623535],\n",
       "       [-1.9077081 , -1.4415791 ],\n",
       "       [-2.35411558, -1.17088308],\n",
       "       [-1.93202643, -0.44083479],\n",
       "       [-2.21942518, -0.96477499],\n",
       "       [-2.79116421, -0.50421849],\n",
       "       [-1.83814105, -0.11729122],\n",
       "       [-2.24572458, -0.17450151],\n",
       "       [-1.97825353,  0.59734172],\n",
       "       [-2.06935091, -0.27755619],\n",
       "       [-2.18514506, -0.56366755],\n",
       "       [-2.15824269, -0.34805785],\n",
       "       [-2.28843932,  0.30256102],\n",
       "       [-2.16501749,  0.47232759],\n",
       "       [-1.8491597 , -0.45547527],\n",
       "       [-2.62023392, -1.84237072],\n",
       "       [-2.44885384, -2.1984673 ],\n",
       "       [-2.20946338,  0.43707676],\n",
       "       [-2.23112223,  0.17266644],\n",
       "       [-2.06147331, -0.6957435 ],\n",
       "       [-2.20946338,  0.43707676],\n",
       "       [-2.45783833,  0.86912843],\n",
       "       [-2.1884075 , -0.30439609],\n",
       "       [-2.30357329, -0.48039222],\n",
       "       [-1.89932763,  2.31759817],\n",
       "       [-2.57799771,  0.4400904 ],\n",
       "       [-1.98020921, -0.50889705],\n",
       "       [-2.14679556, -1.18365675],\n",
       "       [-2.09668176,  0.68061705],\n",
       "       [-2.39554894, -1.16356284],\n",
       "       [-2.41813611,  0.34949483],\n",
       "       [-2.24196231, -1.03745802],\n",
       "       [-2.22484727, -0.04403395],\n",
       "       [ 1.09225538, -0.86148748],\n",
       "       [ 0.72045861, -0.59920238],\n",
       "       [ 1.2299583 , -0.61280832],\n",
       "       [ 0.37598859,  1.756516  ],\n",
       "       [ 1.05729685,  0.21303055],\n",
       "       [ 0.36816104,  0.58896262],\n",
       "       [ 0.73800214, -0.77956125],\n",
       "       [-0.52021731,  1.84337921],\n",
       "       [ 0.9113379 , -0.02941906],\n",
       "       [-0.01292322,  1.02537703],\n",
       "       [-0.15020174,  2.65452146],\n",
       "       [ 0.42437533,  0.05686991],\n",
       "       [ 0.52894687,  1.77250558],\n",
       "       [ 0.70241525,  0.18484154],\n",
       "       [-0.05385675,  0.42901221],\n",
       "       [ 0.86277668, -0.50943908],\n",
       "       [ 0.33388091,  0.18785518],\n",
       "       [ 0.13504146,  0.7883247 ],\n",
       "       [ 1.19457128,  1.63549265],\n",
       "       [ 0.13677262,  1.30063807],\n",
       "       [ 0.72711201, -0.40394501],\n",
       "       [ 0.45564294,  0.41540628],\n",
       "       [ 1.21038365,  0.94282042],\n",
       "       [ 0.61327355,  0.4161824 ],\n",
       "       [ 0.68512164,  0.06335788],\n",
       "       [ 0.85951424, -0.25016762],\n",
       "       [ 1.23906722,  0.08500278],\n",
       "       [ 1.34575245, -0.32669695],\n",
       "       [ 0.64732915,  0.22336443],\n",
       "       [-0.06728496,  1.05414028],\n",
       "       [ 0.10033285,  1.56100021],\n",
       "       [-0.00745518,  1.57050182],\n",
       "       [ 0.2179082 ,  0.77368423],\n",
       "       [ 1.04116321,  0.63744742],\n",
       "       [ 0.20719664,  0.27736006],\n",
       "       [ 0.42154138, -0.85764157],\n",
       "       [ 1.03691937, -0.52112206],\n",
       "       [ 1.015435  ,  1.39413373],\n",
       "       [ 0.0519502 ,  0.20903977],\n",
       "       [ 0.25582921,  1.32747797],\n",
       "       [ 0.25384813,  1.11700714],\n",
       "       [ 0.60915822, -0.02858679],\n",
       "       [ 0.31116522,  0.98711256],\n",
       "       [-0.39679548,  2.01314578],\n",
       "       [ 0.26536661,  0.85150613],\n",
       "       [ 0.07385897,  0.17160757],\n",
       "       [ 0.20854936,  0.37771566],\n",
       "       [ 0.55843737,  0.15286277],\n",
       "       [-0.47853403,  1.53421644],\n",
       "       [ 0.23545172,  0.59332536],\n",
       "       [ 1.8408037 , -0.86943848],\n",
       "       [ 1.13831104,  0.70171953],\n",
       "       [ 2.19615974, -0.54916658],\n",
       "       [ 1.42613827,  0.05187679],\n",
       "       [ 1.8575403 , -0.28797217],\n",
       "       [ 2.74511173, -0.78056359],\n",
       "       [ 0.34010583,  1.5568955 ],\n",
       "       [ 2.29180093, -0.40328242],\n",
       "       [ 1.98618025,  0.72876171],\n",
       "       [ 2.26382116, -1.91685818],\n",
       "       [ 1.35591821, -0.69255356],\n",
       "       [ 1.58471851,  0.43102351],\n",
       "       [ 1.87342402, -0.41054652],\n",
       "       [ 1.23656166,  1.16818977],\n",
       "       [ 1.45128483,  0.4451459 ],\n",
       "       [ 1.58276283, -0.67521526],\n",
       "       [ 1.45956552, -0.25105642],\n",
       "       [ 2.43560434, -2.55096977],\n",
       "       [ 3.29752602,  0.01266612],\n",
       "       [ 1.23377366,  1.71954411],\n",
       "       [ 2.03218282, -0.90334021],\n",
       "       [ 0.95980311,  0.57047585],\n",
       "       [ 2.88717988, -0.38895776],\n",
       "       [ 1.31405636,  0.48854962],\n",
       "       [ 1.69619746, -1.01153249],\n",
       "       [ 1.94868773, -0.99881497],\n",
       "       [ 1.1574572 ,  0.31987373],\n",
       "       [ 1.007133  , -0.06550254],\n",
       "       [ 1.7733922 ,  0.19641059],\n",
       "       [ 1.85327106, -0.55077372],\n",
       "       [ 2.4234788 , -0.2397454 ],\n",
       "       [ 2.31353522, -2.62038074],\n",
       "       [ 1.84800289,  0.18799967],\n",
       "       [ 1.09649923,  0.29708201],\n",
       "       [ 1.1812503 ,  0.81858241],\n",
       "       [ 2.79178861, -0.83668445],\n",
       "       [ 1.57340399, -1.07118383],\n",
       "       [ 1.33614369, -0.420823  ],\n",
       "       [ 0.91061354, -0.01965942],\n",
       "       [ 1.84350913, -0.66872729],\n",
       "       [ 2.00701161, -0.60663655],\n",
       "       [ 1.89319854, -0.68227708],\n",
       "       [ 1.13831104,  0.70171953],\n",
       "       [ 2.03519535, -0.86076914],\n",
       "       [ 1.99464025, -1.04517619],\n",
       "       [ 1.85977129, -0.37934387],\n",
       "       [ 1.54200377,  0.90808604],\n",
       "       [ 1.50925493, -0.26460621],\n",
       "       [ 1.3690965 , -1.01583909],\n",
       "       [ 0.94680339,  0.02182097]])"
      ]
     },
     "execution_count": 63,
     "metadata": {},
     "output_type": "execute_result"
    }
   ],
   "source": [
    "Y= X_std.dot(matrix_w)\n",
    "Y"
   ]
  },
  {
   "cell_type": "code",
   "execution_count": 65,
   "metadata": {},
   "outputs": [
    {
     "data": {
      "image/png": "[encoded data removed]",
      "text/plain": [
       "<Figure size 432x288 with 1 Axes>"
      ]
     },
     "metadata": {
      "needs_background": "light"
     },
     "output_type": "display_data"
    }
   ],
   "source": [
    "plt.figure(figsize=(6,4))\n",
    "for lab,col in zip(('Iris-setosa','Iris-versicolor','Iris-virginica'),('blue','red','green')):\n",
    "    plt.scatter(X[y==lab,0],\n",
    "                X[y==lab,1],\n",
    "                label = lab,\n",
    "                c= col)\n",
    "plt.xlabel('sepal_len')\n",
    "plt.ylabel('sepal_wid')\n",
    "plt.legend(loc='best')\n",
    "plt.tight_layout()\n",
    "plt.show()"
   ]
  },
  {
   "cell_type": "code",
   "execution_count": 67,
   "metadata": {},
   "outputs": [
    {
     "data": {
      "image/png": "[encoded data removed]",
      "text/plain": [
       "<Figure size 432x288 with 1 Axes>"
      ]
     },
     "metadata": {
      "needs_background": "light"
     },
     "output_type": "display_data"
    }
   ],
   "source": [
    "plt.figure(figsize=(6,4))\n",
    "for lab, col in zip(('Iris-setosa','Iris-versicolor','Iris-virginica'),('blue','red','green')):\n",
    "    plt.scatter(Y[y==lab, 0],\n",
    "                Y[y==lab, 1],\n",
    "                label =lab,\n",
    "                c = col)\n",
    "plt.xlabel('Principle Component 1')\n",
    "plt.ylabel('principle Component 2')\n",
    "plt.legend(loc='lower center')\n",
    "plt.tight_layout()\n",
    "plt.show()"
   ]
  },
  {
   "cell_type": "code",
   "execution_count": null,
   "metadata": {},
   "outputs": [],
   "source": []
  }
 ],
 "metadata": {
  "kernelspec": {
   "display_name": "Python 3",
   "language": "python",
   "name": "python3"
  },
  "language_info": {
   "codemirror_mode": {
    "name": "ipython",
    "version": 3
   },
   "file_extension": ".py",
   "mimetype": "text/x-python",
   "name": "python",
   "nbconvert_exporter": "python",
   "pygments_lexer": "ipython3",
   "version": "3.7.0"
  }
 },
 "nbformat": 4,
 "nbformat_minor": 2
}
